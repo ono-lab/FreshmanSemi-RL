{
 "cells": [
  {
   "cell_type": "markdown",
   "metadata": {},
   "source": [
    "# 価値関数\n",
    "\n",
    "価値関数または行動価値関数に関して，その定義を確認し，強化学習アルゴリズムにおけるそれらの利用方法を確認します．\n",
    "\n",
    "## 定義\n",
    "\n",
    "まずは，一般的に用いられる価値関数/行動価値関数の定義を確認します．\n",
    "\n",
    "- 価値関数(Value Function)\n",
    "  $V(s) = $"
   ]
  }
 ],
 "metadata": {
  "interpreter": {
   "hash": "97504645a1f23459c17c212274a0bcf9c19874fbce259200e47a4c8c54b7985d"
  },
  "kernelspec": {
   "display_name": "Python 3.8.10 ('.venv': venv)",
   "language": "python",
   "name": "python3"
  },
  "language_info": {
   "name": "python",
   "version": "3.8.10"
  },
  "orig_nbformat": 4
 },
 "nbformat": 4,
 "nbformat_minor": 2
}
