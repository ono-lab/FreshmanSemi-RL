{
 "cells": [
  {
   "cell_type": "markdown",
   "metadata": {},
   "source": [
    "# 価値関数\n",
    "\n",
    "```{math}\n",
    "\\newcommand{\\E}{{\\mathrm E}}\n",
    "\\newcommand{\\underE}[2]{\\underset{\\begin{subarray}{c}#1 \\end{subarray}}{\\E}\\left[ #2 \\right]}\n",
    "\\newcommand{\\Epi}[1]{\\underset{\\begin{subarray}{c}\\tau \\sim \\pi \\end{subarray}}{\\E}\\left[ #1 \\right]}\n",
    "```"
   ]
  },
  {
   "cell_type": "markdown",
   "metadata": {},
   "source": [
    "本章では，強化学習理論の基礎となる，価値関数/行動価値関数というものについて見ていきます．価値関数/行動価値関数とは直感的に捉えると，ある状態$s$や状態行動対$(s,a)$が，どのくらいの価値を持つかを表すものです．価値関数は強化学習アルゴリズムの目的である\n",
    "\n",
    "- 価値関数/行動価値関数の定義\n",
    "- これらを用いた最適方策の定義\n",
    "- 価値関数の性質\n",
    "- 価値関数の推定\n",
    "\n",
    "## 定義\n",
    "\n",
    "まずは，一般的に用いられる価値関数/行動価値関数の定義を確認します．\n",
    "\n",
    "- 価値関数(Value Function)\n",
    "\n",
    "  $$V^\\pi(s) = \\underE{\\pi}{\\lim_{T \\rightarrow \\infty} \\sum_{t=0}^T \\gamma^t R_t | S_0 = s}$$\n",
    "\n",
    "- 行動価値関数(Action Value Function)\n",
    "\n",
    "  $$Q^\\pi(s,a) = \\underE{\\pi}{\\lim_{T \\rightarrow \\infty} \\sum_{t=0}^T \\gamma^t R_t | S_0 = s, A_0 = 0}$$\n",
    "\n",
    "### 具体例\n"
   ]
  }
 ],
 "metadata": {
  "interpreter": {
   "hash": "97504645a1f23459c17c212274a0bcf9c19874fbce259200e47a4c8c54b7985d"
  },
  "kernelspec": {
   "display_name": "Python 3.8.10 ('.venv': venv)",
   "language": "python",
   "name": "python3"
  },
  "language_info": {
   "name": "python",
   "version": "3.8.10"
  },
  "orig_nbformat": 4
 },
 "nbformat": 4,
 "nbformat_minor": 2
}
