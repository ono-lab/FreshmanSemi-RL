{
 "cells": [
  {
   "cell_type": "markdown",
   "metadata": {},
   "source": [
    "# ベルマン方程式\n",
    "\n",
    "ここでは，価値関数/行動価値関数が満たす再帰的な性質を基にした **ベルマン方程式** を紹介します．\n",
    "この方程式は，現在の状態の価値$V(s_t)$と次の状態の価値$V(s_{t+1})$の関係に着目することにより得られる方程式で，価値関数であることとベルマン方程式を満たすことは\n"
   ]
  }
 ],
 "metadata": {
  "language_info": {
   "name": "python"
  },
  "orig_nbformat": 4
 },
 "nbformat": 4,
 "nbformat_minor": 2
}
